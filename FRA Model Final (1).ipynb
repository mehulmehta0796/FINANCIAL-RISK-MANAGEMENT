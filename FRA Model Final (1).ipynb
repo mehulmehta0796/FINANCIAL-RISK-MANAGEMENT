{
 "cells": [
  {
   "cell_type": "markdown",
   "metadata": {},
   "source": [
    "## Objective of the Project: \n",
    "The Objective of the project is to provide a flavor of “real-life” experience of a quantitative financial analyst with the risk\n",
    "management concepts learned in Financial Risk Management. The project involves activities of data preparation, financial modeling and analysis, documentation and reporting. \n",
    "\n",
    "## Task to be performed in the Project.\n",
    "\n",
    "PART I: Estimate both WFC and SPY (independently) log return volatility using GARCH (1,1) from data Jan 1, 2018 to Dec 31, 2020.\n",
    "\n",
    "PART II: Estimate the long term volatilities of your symbol and the SPY based on the GARCH(1,1)? Estimate the correlation between WFC and SPY.\n",
    "\n",
    "PART III: Estimate 99% VaR for the symbol and SPY using historical simulation (equal weight) using data\n",
    "Jan 1, 2018 to Dec 31, 2020, assuming you have invested $1 million independently for portfolios A, B and C. Moreover, back test VaR using data March 1, 2020- Feb 28, 2021 for your estimation following Basel color coding.\n",
    " \n",
    "PART IV: Use the results above and the actual profit and loss on Jan 4th, 2021 to assess and discuss which\n",
    "portfolio (i.e. A, B, or C) has the best risk adjusted performance, assuming 99% VaR is used for\n",
    "economic capital."
   ]
  },
  {
   "cell_type": "markdown",
   "metadata": {},
   "source": [
    "# PART I"
   ]
  },
  {
   "cell_type": "code",
   "execution_count": 1,
   "metadata": {},
   "outputs": [],
   "source": [
    "#importing all the libraries\n",
    "import numpy as np\n",
    "import pandas as pd\n",
    "import warnings\n",
    "from pandas_datareader import data\n",
    "from arch import arch_model\n",
    "from pandas_datareader import data as pdr\n",
    "import yfinance as yf\n",
    "import numpy as np\n",
    "from scipy.stats import norm\n",
    "import matplotlib.pyplot as plt\n",
    "import math\n",
    "warnings.filterwarnings(\"ignore\")"
   ]
  },
  {
   "cell_type": "code",
   "execution_count": 2,
   "metadata": {},
   "outputs": [],
   "source": [
    "# Loading the data  of Wells Fargo & Co. (WFC) and SPDR S&P 500 Trust ETF (SPY) from Yahoo Finance.\n",
    "wfc = data.DataReader(\"WFC\", start='2018-1-1', end='2020-12-31', data_source='yahoo')\n",
    "spy = data.DataReader(\"SPY\", start='2018-1-1', end='2020-12-31', data_source='yahoo')"
   ]
  },
  {
   "cell_type": "code",
   "execution_count": 3,
   "metadata": {},
   "outputs": [],
   "source": [
    "# Calculating the log returns of the Close Value.\n",
    "spy['log_returns'] = (np.log(spy['Close'])-np.log(spy['Close'].shift(1)))\n",
    "wfc['log_returns'] = (np.log(wfc['Close'])-np.log(wfc['Close'].shift(1)))"
   ]
  },
  {
   "cell_type": "code",
   "execution_count": 4,
   "metadata": {
    "scrolled": true
   },
   "outputs": [
    {
     "data": {
      "text/html": [
       "<div>\n",
       "<style scoped>\n",
       "    .dataframe tbody tr th:only-of-type {\n",
       "        vertical-align: middle;\n",
       "    }\n",
       "\n",
       "    .dataframe tbody tr th {\n",
       "        vertical-align: top;\n",
       "    }\n",
       "\n",
       "    .dataframe thead th {\n",
       "        text-align: right;\n",
       "    }\n",
       "</style>\n",
       "<table border=\"1\" class=\"dataframe\">\n",
       "  <thead>\n",
       "    <tr style=\"text-align: right;\">\n",
       "      <th></th>\n",
       "      <th>High</th>\n",
       "      <th>Low</th>\n",
       "      <th>Open</th>\n",
       "      <th>Close</th>\n",
       "      <th>Volume</th>\n",
       "      <th>Adj Close</th>\n",
       "      <th>log_returns</th>\n",
       "    </tr>\n",
       "    <tr>\n",
       "      <th>Date</th>\n",
       "      <th></th>\n",
       "      <th></th>\n",
       "      <th></th>\n",
       "      <th></th>\n",
       "      <th></th>\n",
       "      <th></th>\n",
       "      <th></th>\n",
       "    </tr>\n",
       "  </thead>\n",
       "  <tbody>\n",
       "    <tr>\n",
       "      <th>2018-01-02</th>\n",
       "      <td>268.809998</td>\n",
       "      <td>267.399994</td>\n",
       "      <td>267.839996</td>\n",
       "      <td>268.769989</td>\n",
       "      <td>86655700.0</td>\n",
       "      <td>253.283142</td>\n",
       "      <td>NaN</td>\n",
       "    </tr>\n",
       "    <tr>\n",
       "      <th>2018-01-03</th>\n",
       "      <td>270.640015</td>\n",
       "      <td>268.959991</td>\n",
       "      <td>268.959991</td>\n",
       "      <td>270.470001</td>\n",
       "      <td>90070400.0</td>\n",
       "      <td>254.885162</td>\n",
       "      <td>0.006305</td>\n",
       "    </tr>\n",
       "    <tr>\n",
       "      <th>2018-01-04</th>\n",
       "      <td>272.160004</td>\n",
       "      <td>270.540009</td>\n",
       "      <td>271.200012</td>\n",
       "      <td>271.609985</td>\n",
       "      <td>80636400.0</td>\n",
       "      <td>255.959488</td>\n",
       "      <td>0.004206</td>\n",
       "    </tr>\n",
       "    <tr>\n",
       "      <th>2018-01-05</th>\n",
       "      <td>273.559998</td>\n",
       "      <td>271.950012</td>\n",
       "      <td>272.510010</td>\n",
       "      <td>273.420013</td>\n",
       "      <td>83524000.0</td>\n",
       "      <td>257.665283</td>\n",
       "      <td>0.006642</td>\n",
       "    </tr>\n",
       "    <tr>\n",
       "      <th>2018-01-08</th>\n",
       "      <td>274.100006</td>\n",
       "      <td>272.980011</td>\n",
       "      <td>273.309998</td>\n",
       "      <td>273.920013</td>\n",
       "      <td>57319200.0</td>\n",
       "      <td>258.136414</td>\n",
       "      <td>0.001827</td>\n",
       "    </tr>\n",
       "    <tr>\n",
       "      <th>...</th>\n",
       "      <td>...</td>\n",
       "      <td>...</td>\n",
       "      <td>...</td>\n",
       "      <td>...</td>\n",
       "      <td>...</td>\n",
       "      <td>...</td>\n",
       "      <td>...</td>\n",
       "    </tr>\n",
       "    <tr>\n",
       "      <th>2020-12-24</th>\n",
       "      <td>369.029999</td>\n",
       "      <td>367.450012</td>\n",
       "      <td>368.079987</td>\n",
       "      <td>369.000000</td>\n",
       "      <td>26457900.0</td>\n",
       "      <td>367.795380</td>\n",
       "      <td>0.003883</td>\n",
       "    </tr>\n",
       "    <tr>\n",
       "      <th>2020-12-28</th>\n",
       "      <td>372.589996</td>\n",
       "      <td>371.070007</td>\n",
       "      <td>371.739990</td>\n",
       "      <td>372.170013</td>\n",
       "      <td>39000400.0</td>\n",
       "      <td>370.955048</td>\n",
       "      <td>0.008554</td>\n",
       "    </tr>\n",
       "    <tr>\n",
       "      <th>2020-12-29</th>\n",
       "      <td>374.000000</td>\n",
       "      <td>370.829987</td>\n",
       "      <td>373.809998</td>\n",
       "      <td>371.459991</td>\n",
       "      <td>53680500.0</td>\n",
       "      <td>370.247345</td>\n",
       "      <td>-0.001910</td>\n",
       "    </tr>\n",
       "    <tr>\n",
       "      <th>2020-12-30</th>\n",
       "      <td>373.100006</td>\n",
       "      <td>371.570007</td>\n",
       "      <td>372.339996</td>\n",
       "      <td>371.989990</td>\n",
       "      <td>49455300.0</td>\n",
       "      <td>370.775604</td>\n",
       "      <td>0.001426</td>\n",
       "    </tr>\n",
       "    <tr>\n",
       "      <th>2020-12-31</th>\n",
       "      <td>374.660004</td>\n",
       "      <td>371.230011</td>\n",
       "      <td>371.779999</td>\n",
       "      <td>373.880005</td>\n",
       "      <td>78520700.0</td>\n",
       "      <td>372.659454</td>\n",
       "      <td>0.005068</td>\n",
       "    </tr>\n",
       "  </tbody>\n",
       "</table>\n",
       "<p>756 rows × 7 columns</p>\n",
       "</div>"
      ],
      "text/plain": [
       "                  High         Low        Open       Close      Volume  \\\n",
       "Date                                                                     \n",
       "2018-01-02  268.809998  267.399994  267.839996  268.769989  86655700.0   \n",
       "2018-01-03  270.640015  268.959991  268.959991  270.470001  90070400.0   \n",
       "2018-01-04  272.160004  270.540009  271.200012  271.609985  80636400.0   \n",
       "2018-01-05  273.559998  271.950012  272.510010  273.420013  83524000.0   \n",
       "2018-01-08  274.100006  272.980011  273.309998  273.920013  57319200.0   \n",
       "...                ...         ...         ...         ...         ...   \n",
       "2020-12-24  369.029999  367.450012  368.079987  369.000000  26457900.0   \n",
       "2020-12-28  372.589996  371.070007  371.739990  372.170013  39000400.0   \n",
       "2020-12-29  374.000000  370.829987  373.809998  371.459991  53680500.0   \n",
       "2020-12-30  373.100006  371.570007  372.339996  371.989990  49455300.0   \n",
       "2020-12-31  374.660004  371.230011  371.779999  373.880005  78520700.0   \n",
       "\n",
       "             Adj Close  log_returns  \n",
       "Date                                 \n",
       "2018-01-02  253.283142          NaN  \n",
       "2018-01-03  254.885162     0.006305  \n",
       "2018-01-04  255.959488     0.004206  \n",
       "2018-01-05  257.665283     0.006642  \n",
       "2018-01-08  258.136414     0.001827  \n",
       "...                ...          ...  \n",
       "2020-12-24  367.795380     0.003883  \n",
       "2020-12-28  370.955048     0.008554  \n",
       "2020-12-29  370.247345    -0.001910  \n",
       "2020-12-30  370.775604     0.001426  \n",
       "2020-12-31  372.659454     0.005068  \n",
       "\n",
       "[756 rows x 7 columns]"
      ]
     },
     "execution_count": 4,
     "metadata": {},
     "output_type": "execute_result"
    }
   ],
   "source": [
    "#Checking the values of SPY.\n",
    "spy"
   ]
  },
  {
   "cell_type": "code",
   "execution_count": 5,
   "metadata": {},
   "outputs": [
    {
     "data": {
      "text/plain": [
       "Text(0.5, 1.0, 'SPY Stock Price 2018-1-1 - 2020-12-31')"
      ]
     },
     "execution_count": 5,
     "metadata": {},
     "output_type": "execute_result"
    },
    {
     "data": {
      "image/png": "[encoded data removed]",
      "text/plain": [
       "<Figure size 720x360 with 1 Axes>"
      ]
     },
     "metadata": {
      "needs_background": "light"
     },
     "output_type": "display_data"
    }
   ],
   "source": [
    "plt.figure(figsize=(10,5))\n",
    "plt.plot(spy.index, spy['Close'])\n",
    "plt.xlabel(\"Date\")\n",
    "plt.ylabel(\"$ Price\")\n",
    "plt.title(\"SPY Stock Price 2018-1-1 - 2020-12-31\")"
   ]
  },
  {
   "cell_type": "code",
   "execution_count": 6,
   "metadata": {
    "scrolled": true
   },
   "outputs": [
    {
     "data": {
      "text/html": [
       "<div>\n",
       "<style scoped>\n",
       "    .dataframe tbody tr th:only-of-type {\n",
       "        vertical-align: middle;\n",
       "    }\n",
       "\n",
       "    .dataframe tbody tr th {\n",
       "        vertical-align: top;\n",
       "    }\n",
       "\n",
       "    .dataframe thead th {\n",
       "        text-align: right;\n",
       "    }\n",
       "</style>\n",
       "<table border=\"1\" class=\"dataframe\">\n",
       "  <thead>\n",
       "    <tr style=\"text-align: right;\">\n",
       "      <th></th>\n",
       "      <th>High</th>\n",
       "      <th>Low</th>\n",
       "      <th>Open</th>\n",
       "      <th>Close</th>\n",
       "      <th>Volume</th>\n",
       "      <th>Adj Close</th>\n",
       "      <th>log_returns</th>\n",
       "    </tr>\n",
       "    <tr>\n",
       "      <th>Date</th>\n",
       "      <th></th>\n",
       "      <th></th>\n",
       "      <th></th>\n",
       "      <th></th>\n",
       "      <th></th>\n",
       "      <th></th>\n",
       "      <th></th>\n",
       "    </tr>\n",
       "  </thead>\n",
       "  <tbody>\n",
       "    <tr>\n",
       "      <th>2018-01-02</th>\n",
       "      <td>61.360001</td>\n",
       "      <td>60.700001</td>\n",
       "      <td>61.040001</td>\n",
       "      <td>61.090000</td>\n",
       "      <td>13819300.0</td>\n",
       "      <td>54.567165</td>\n",
       "      <td>NaN</td>\n",
       "    </tr>\n",
       "    <tr>\n",
       "      <th>2018-01-03</th>\n",
       "      <td>61.770000</td>\n",
       "      <td>61.099998</td>\n",
       "      <td>61.220001</td>\n",
       "      <td>61.560001</td>\n",
       "      <td>14203700.0</td>\n",
       "      <td>54.986977</td>\n",
       "      <td>0.007664</td>\n",
       "    </tr>\n",
       "    <tr>\n",
       "      <th>2018-01-04</th>\n",
       "      <td>63.049999</td>\n",
       "      <td>61.910000</td>\n",
       "      <td>61.980000</td>\n",
       "      <td>62.330002</td>\n",
       "      <td>18740500.0</td>\n",
       "      <td>55.674767</td>\n",
       "      <td>0.012431</td>\n",
       "    </tr>\n",
       "    <tr>\n",
       "      <th>2018-01-05</th>\n",
       "      <td>62.810001</td>\n",
       "      <td>62.090000</td>\n",
       "      <td>62.759998</td>\n",
       "      <td>62.750000</td>\n",
       "      <td>14217900.0</td>\n",
       "      <td>56.049923</td>\n",
       "      <td>0.006716</td>\n",
       "    </tr>\n",
       "    <tr>\n",
       "      <th>2018-01-08</th>\n",
       "      <td>62.730000</td>\n",
       "      <td>61.939999</td>\n",
       "      <td>62.660000</td>\n",
       "      <td>62.040001</td>\n",
       "      <td>15569400.0</td>\n",
       "      <td>55.415730</td>\n",
       "      <td>-0.011379</td>\n",
       "    </tr>\n",
       "    <tr>\n",
       "      <th>...</th>\n",
       "      <td>...</td>\n",
       "      <td>...</td>\n",
       "      <td>...</td>\n",
       "      <td>...</td>\n",
       "      <td>...</td>\n",
       "      <td>...</td>\n",
       "      <td>...</td>\n",
       "    </tr>\n",
       "    <tr>\n",
       "      <th>2020-12-24</th>\n",
       "      <td>30.379999</td>\n",
       "      <td>29.660000</td>\n",
       "      <td>30.290001</td>\n",
       "      <td>29.840000</td>\n",
       "      <td>14443700.0</td>\n",
       "      <td>29.681118</td>\n",
       "      <td>-0.016947</td>\n",
       "    </tr>\n",
       "    <tr>\n",
       "      <th>2020-12-28</th>\n",
       "      <td>30.480000</td>\n",
       "      <td>29.910000</td>\n",
       "      <td>30.080000</td>\n",
       "      <td>29.930000</td>\n",
       "      <td>21658500.0</td>\n",
       "      <td>29.770638</td>\n",
       "      <td>0.003012</td>\n",
       "    </tr>\n",
       "    <tr>\n",
       "      <th>2020-12-29</th>\n",
       "      <td>30.170000</td>\n",
       "      <td>29.750000</td>\n",
       "      <td>30.150000</td>\n",
       "      <td>29.780001</td>\n",
       "      <td>19584400.0</td>\n",
       "      <td>29.621439</td>\n",
       "      <td>-0.005024</td>\n",
       "    </tr>\n",
       "    <tr>\n",
       "      <th>2020-12-30</th>\n",
       "      <td>30.040001</td>\n",
       "      <td>29.650000</td>\n",
       "      <td>29.799999</td>\n",
       "      <td>29.750000</td>\n",
       "      <td>18519300.0</td>\n",
       "      <td>29.591597</td>\n",
       "      <td>-0.001008</td>\n",
       "    </tr>\n",
       "    <tr>\n",
       "      <th>2020-12-31</th>\n",
       "      <td>30.240000</td>\n",
       "      <td>29.670000</td>\n",
       "      <td>29.750000</td>\n",
       "      <td>30.180000</td>\n",
       "      <td>21081200.0</td>\n",
       "      <td>30.019308</td>\n",
       "      <td>0.014350</td>\n",
       "    </tr>\n",
       "  </tbody>\n",
       "</table>\n",
       "<p>756 rows × 7 columns</p>\n",
       "</div>"
      ],
      "text/plain": [
       "                 High        Low       Open      Close      Volume  Adj Close  \\\n",
       "Date                                                                            \n",
       "2018-01-02  61.360001  60.700001  61.040001  61.090000  13819300.0  54.567165   \n",
       "2018-01-03  61.770000  61.099998  61.220001  61.560001  14203700.0  54.986977   \n",
       "2018-01-04  63.049999  61.910000  61.980000  62.330002  18740500.0  55.674767   \n",
       "2018-01-05  62.810001  62.090000  62.759998  62.750000  14217900.0  56.049923   \n",
       "2018-01-08  62.730000  61.939999  62.660000  62.040001  15569400.0  55.415730   \n",
       "...               ...        ...        ...        ...         ...        ...   \n",
       "2020-12-24  30.379999  29.660000  30.290001  29.840000  14443700.0  29.681118   \n",
       "2020-12-28  30.480000  29.910000  30.080000  29.930000  21658500.0  29.770638   \n",
       "2020-12-29  30.170000  29.750000  30.150000  29.780001  19584400.0  29.621439   \n",
       "2020-12-30  30.040001  29.650000  29.799999  29.750000  18519300.0  29.591597   \n",
       "2020-12-31  30.240000  29.670000  29.750000  30.180000  21081200.0  30.019308   \n",
       "\n",
       "            log_returns  \n",
       "Date                     \n",
       "2018-01-02          NaN  \n",
       "2018-01-03     0.007664  \n",
       "2018-01-04     0.012431  \n",
       "2018-01-05     0.006716  \n",
       "2018-01-08    -0.011379  \n",
       "...                 ...  \n",
       "2020-12-24    -0.016947  \n",
       "2020-12-28     0.003012  \n",
       "2020-12-29    -0.005024  \n",
       "2020-12-30    -0.001008  \n",
       "2020-12-31     0.014350  \n",
       "\n",
       "[756 rows x 7 columns]"
      ]
     },
     "execution_count": 6,
     "metadata": {},
     "output_type": "execute_result"
    }
   ],
   "source": [
    "#Checking the values of WFC.\n",
    "wfc"
   ]
  },
  {
   "cell_type": "code",
   "execution_count": 7,
   "metadata": {},
   "outputs": [
    {
     "data": {
      "text/plain": [
       "Text(0.5, 1.0, 'WFC Stock Price 2018-1-1 - 2020-12-31')"
      ]
     },
     "execution_count": 7,
     "metadata": {},
     "output_type": "execute_result"
    },
    {
     "data": {
      "image/png": "[encoded data removed]",
      "text/plain": [
       "<Figure size 720x360 with 1 Axes>"
      ]
     },
     "metadata": {
      "needs_background": "light"
     },
     "output_type": "display_data"
    }
   ],
   "source": [
    "plt.figure(figsize=(10,5))\n",
    "plt.plot(wfc.index, wfc['Close'])\n",
    "plt.xlabel(\"Date\")\n",
    "plt.ylabel(\"$ Price\")\n",
    "plt.title(\"WFC Stock Price 2018-1-1 - 2020-12-31\")"
   ]
  },
  {
   "cell_type": "markdown",
   "metadata": {},
   "source": [
    "### Steps followed to apply GARCH(1,1) Model on WFC and SPY Ticker.\n",
    "\n",
    "1. Firstly, extract the Wells Fargo & Co (ticker = WFC) and S&P 500 (ticker = SPY) data\n",
    "pertaining to the required dates by using Yahoo Finance.\n",
    "\n",
    "2. After extracting the data, calculate the log returns of the close values for Wells Fargo (WFC)\n",
    "and S&P 500(SPY).\n",
    "\n",
    "3. Then use the arch_model() module from the ARCH package to build the GARCH (1,1)\n",
    "model. Moreover, in the model we need to specify a GARCH instead of ARCH model in\n",
    "vol=’GARCH’ and assign lag parameters (p,q).\n"
   ]
  },
  {
   "cell_type": "markdown",
   "metadata": {},
   "source": [
    "### Objective for using GARCH Model \n",
    "\n",
    "The goal of GARCH is to provide volatility measures for heteroscedastic time series data, much in the same way standard deviations are interpreted in simpler models.\n",
    "\n",
    "### Applying the GARCH Model "
   ]
  },
  {
   "cell_type": "code",
   "execution_count": 8,
   "metadata": {},
   "outputs": [
    {
     "name": "stdout",
     "output_type": "stream",
     "text": [
      "Iteration:      7,   Func. Count:     38,   Neg. LLF: 1070.6765842455266\n",
      "Optimization terminated successfully    (Exit mode 0)\n",
      "            Current function value: 1070.676584245651\n",
      "            Iterations: 7\n",
      "            Function evaluations: 38\n",
      "            Gradient evaluations: 7\n"
     ]
    },
    {
     "data": {
      "text/html": [
       "<table class=\"simpletable\">\n",
       "<caption>Zero Mean - GARCH Model Results</caption>\n",
       "<tr>\n",
       "  <th>Dep. Variable:</th>     <td>log_returns</td>    <th>  R-squared:         </th>  <td>   0.000</td> \n",
       "</tr>\n",
       "<tr>\n",
       "  <th>Mean Model:</th>         <td>Zero Mean</td>     <th>  Adj. R-squared:    </th>  <td>   0.001</td> \n",
       "</tr>\n",
       "<tr>\n",
       "  <th>Vol Model:</th>            <td>GARCH</td>       <th>  Log-Likelihood:    </th> <td>  -1070.68</td>\n",
       "</tr>\n",
       "<tr>\n",
       "  <th>Distribution:</th>        <td>Normal</td>       <th>  AIC:               </th> <td>   2147.35</td>\n",
       "</tr>\n",
       "<tr>\n",
       "  <th>Method:</th>        <td>Maximum Likelihood</td> <th>  BIC:               </th> <td>   2161.23</td>\n",
       "</tr>\n",
       "<tr>\n",
       "  <th></th>                        <td></td>          <th>  No. Observations:  </th>     <td>755</td>   \n",
       "</tr>\n",
       "<tr>\n",
       "  <th>Date:</th>           <td>Thu, May 13 2021</td>  <th>  Df Residuals:      </th>     <td>755</td>   \n",
       "</tr>\n",
       "<tr>\n",
       "  <th>Time:</th>               <td>18:49:06</td>      <th>  Df Model:          </th>      <td>0</td>    \n",
       "</tr>\n",
       "</table>\n",
       "<table class=\"simpletable\">\n",
       "<caption>Volatility Model</caption>\n",
       "<tr>\n",
       "      <td></td>        <th>coef</th>     <th>std err</th>      <th>t</th>       <th>P>|t|</th>     <th>95.0% Conf. Int.</th>   \n",
       "</tr>\n",
       "<tr>\n",
       "  <th>omega</th>    <td>    0.0531</td> <td>2.230e-02</td> <td>    2.382</td> <td>1.723e-02</td> <td>[9.409e-03,9.683e-02]</td>\n",
       "</tr>\n",
       "<tr>\n",
       "  <th>alpha[1]</th> <td>    0.2438</td> <td>4.849e-02</td> <td>    5.028</td> <td>4.961e-07</td>   <td>[  0.149,  0.339]</td>  \n",
       "</tr>\n",
       "<tr>\n",
       "  <th>beta[1]</th>  <td>    0.7388</td> <td>3.672e-02</td> <td>   20.123</td> <td>4.635e-90</td>   <td>[  0.667,  0.811]</td>  \n",
       "</tr>\n",
       "</table><br/><br/>Covariance estimator: robust"
      ],
      "text/plain": [
       "<class 'statsmodels.iolib.summary.Summary'>\n",
       "\"\"\"\n",
       "                       Zero Mean - GARCH Model Results                        \n",
       "==============================================================================\n",
       "Dep. Variable:            log_returns   R-squared:                       0.000\n",
       "Mean Model:                 Zero Mean   Adj. R-squared:                  0.001\n",
       "Vol Model:                      GARCH   Log-Likelihood:               -1070.68\n",
       "Distribution:                  Normal   AIC:                           2147.35\n",
       "Method:            Maximum Likelihood   BIC:                           2161.23\n",
       "                                        No. Observations:                  755\n",
       "Date:                Thu, May 13 2021   Df Residuals:                      755\n",
       "Time:                        18:49:06   Df Model:                            0\n",
       "                              Volatility Model                              \n",
       "============================================================================\n",
       "                 coef    std err          t      P>|t|      95.0% Conf. Int.\n",
       "----------------------------------------------------------------------------\n",
       "omega          0.0531  2.230e-02      2.382  1.723e-02 [9.409e-03,9.683e-02]\n",
       "alpha[1]       0.2438  4.849e-02      5.028  4.961e-07     [  0.149,  0.339]\n",
       "beta[1]        0.7388  3.672e-02     20.123  4.635e-90     [  0.667,  0.811]\n",
       "============================================================================\n",
       "\n",
       "Covariance estimator: robust\n",
       "\"\"\""
      ]
     },
     "execution_count": 8,
     "metadata": {},
     "output_type": "execute_result"
    }
   ],
   "source": [
    "#Applying GARCH(1,1) Model on SPY\n",
    "spy_garch = arch_model(spy.log_returns[1:]*100, mean='Zero', vol='GARCH',p=1,q=1)\n",
    "result_spy_garch = spy_garch.fit(update_freq=7)\n",
    "result_spy_garch.summary()"
   ]
  },
  {
   "cell_type": "code",
   "execution_count": 9,
   "metadata": {},
   "outputs": [
    {
     "name": "stdout",
     "output_type": "stream",
     "text": [
      "Omega: 0.05311807589082896\n",
      "Alpha: 0.24377456187723942\n",
      "Beta: 0.7388237291074509\n"
     ]
    }
   ],
   "source": [
    "#Printing the values of Omega, Alpha and Beta.\n",
    "print(\"Omega:\",result_spy_garch.params[\"omega\"])\n",
    "print(\"Alpha:\",result_spy_garch.params[\"alpha[1]\"])\n",
    "print(\"Beta:\",result_spy_garch.params[\"beta[1]\"])"
   ]
  },
  {
   "cell_type": "code",
   "execution_count": 10,
   "metadata": {},
   "outputs": [
    {
     "name": "stdout",
     "output_type": "stream",
     "text": [
      "Iteration:      7,   Func. Count:     39,   Neg. LLF: 1529.3299580027308\n",
      "Optimization terminated successfully    (Exit mode 0)\n",
      "            Current function value: 1529.32995273475\n",
      "            Iterations: 9\n",
      "            Function evaluations: 46\n",
      "            Gradient evaluations: 9\n"
     ]
    },
    {
     "data": {
      "text/html": [
       "<table class=\"simpletable\">\n",
       "<caption>Zero Mean - GARCH Model Results</caption>\n",
       "<tr>\n",
       "  <th>Dep. Variable:</th>     <td>log_returns</td>    <th>  R-squared:         </th>  <td>   0.000</td> \n",
       "</tr>\n",
       "<tr>\n",
       "  <th>Mean Model:</th>         <td>Zero Mean</td>     <th>  Adj. R-squared:    </th>  <td>   0.001</td> \n",
       "</tr>\n",
       "<tr>\n",
       "  <th>Vol Model:</th>            <td>GARCH</td>       <th>  Log-Likelihood:    </th> <td>  -1529.33</td>\n",
       "</tr>\n",
       "<tr>\n",
       "  <th>Distribution:</th>        <td>Normal</td>       <th>  AIC:               </th> <td>   3064.66</td>\n",
       "</tr>\n",
       "<tr>\n",
       "  <th>Method:</th>        <td>Maximum Likelihood</td> <th>  BIC:               </th> <td>   3078.54</td>\n",
       "</tr>\n",
       "<tr>\n",
       "  <th></th>                        <td></td>          <th>  No. Observations:  </th>     <td>755</td>   \n",
       "</tr>\n",
       "<tr>\n",
       "  <th>Date:</th>           <td>Thu, May 13 2021</td>  <th>  Df Residuals:      </th>     <td>755</td>   \n",
       "</tr>\n",
       "<tr>\n",
       "  <th>Time:</th>               <td>18:49:06</td>      <th>  Df Model:          </th>      <td>0</td>    \n",
       "</tr>\n",
       "</table>\n",
       "<table class=\"simpletable\">\n",
       "<caption>Volatility Model</caption>\n",
       "<tr>\n",
       "      <td></td>        <th>coef</th>     <th>std err</th>      <th>t</th>       <th>P>|t|</th>     <th>95.0% Conf. Int.</th>  \n",
       "</tr>\n",
       "<tr>\n",
       "  <th>omega</th>    <td>    0.2458</td> <td>    0.156</td> <td>    1.574</td> <td>    0.116</td> <td>[-6.031e-02,  0.552]</td>\n",
       "</tr>\n",
       "<tr>\n",
       "  <th>alpha[1]</th> <td>    0.2238</td> <td>    0.132</td> <td>    1.700</td> <td>8.906e-02</td> <td>[-3.417e-02,  0.482]</td>\n",
       "</tr>\n",
       "<tr>\n",
       "  <th>beta[1]</th>  <td>    0.7349</td> <td>    0.128</td> <td>    5.733</td> <td>9.850e-09</td>   <td>[  0.484,  0.986]</td> \n",
       "</tr>\n",
       "</table><br/><br/>Covariance estimator: robust"
      ],
      "text/plain": [
       "<class 'statsmodels.iolib.summary.Summary'>\n",
       "\"\"\"\n",
       "                       Zero Mean - GARCH Model Results                        \n",
       "==============================================================================\n",
       "Dep. Variable:            log_returns   R-squared:                       0.000\n",
       "Mean Model:                 Zero Mean   Adj. R-squared:                  0.001\n",
       "Vol Model:                      GARCH   Log-Likelihood:               -1529.33\n",
       "Distribution:                  Normal   AIC:                           3064.66\n",
       "Method:            Maximum Likelihood   BIC:                           3078.54\n",
       "                                        No. Observations:                  755\n",
       "Date:                Thu, May 13 2021   Df Residuals:                      755\n",
       "Time:                        18:49:06   Df Model:                            0\n",
       "                              Volatility Model                             \n",
       "===========================================================================\n",
       "                 coef    std err          t      P>|t|     95.0% Conf. Int.\n",
       "---------------------------------------------------------------------------\n",
       "omega          0.2458      0.156      1.574      0.116 [-6.031e-02,  0.552]\n",
       "alpha[1]       0.2238      0.132      1.700  8.906e-02 [-3.417e-02,  0.482]\n",
       "beta[1]        0.7349      0.128      5.733  9.850e-09    [  0.484,  0.986]\n",
       "===========================================================================\n",
       "\n",
       "Covariance estimator: robust\n",
       "\"\"\""
      ]
     },
     "execution_count": 10,
     "metadata": {},
     "output_type": "execute_result"
    }
   ],
   "source": [
    "#Applying GARCH(1,1) Model on WFC\n",
    "wfc_garch = arch_model(wfc.log_returns[1:]*100, mean='Zero', vol='GARCH',p=1,q=1)\n",
    "result_wfc_garch = wfc_garch.fit(update_freq=7)\n",
    "result_wfc_garch.summary()"
   ]
  },
  {
   "cell_type": "code",
   "execution_count": 11,
   "metadata": {},
   "outputs": [
    {
     "name": "stdout",
     "output_type": "stream",
     "text": [
      "Omega: 0.24579654930831057\n",
      "Alpha: 0.22377374105594036\n",
      "Beta: 0.734858917935758\n"
     ]
    }
   ],
   "source": [
    "#Printing the values of Omega, Alpha and Beta.\n",
    "print(\"Omega:\",result_wfc_garch.params[\"omega\"])\n",
    "print(\"Alpha:\",result_wfc_garch.params[\"alpha[1]\"])\n",
    "print(\"Beta:\",result_wfc_garch.params[\"beta[1]\"])"
   ]
  },
  {
   "cell_type": "markdown",
   "metadata": {},
   "source": [
    "# PART II: Long Term Volatility (VL)"
   ]
  },
  {
   "cell_type": "markdown",
   "metadata": {},
   "source": [
    "### Steps to calculate Long Term Volatility\n",
    "We know that,\n",
    "𝝎 = 𝜸𝑽𝑳\n",
    "Where VL is the long-term volatility.\n",
    "\n",
    "And,\n",
    "𝜸 + 𝜶 + 𝜷 = 𝟏\n",
    "\n",
    "Therefore, using the above equations,\n",
    "𝑽𝑳 = 𝝎/(𝟏 − 𝜶 − 𝜷)\n",
    "Therefore, we use the values of alpha, beta and omega to calculate the long-term volatility."
   ]
  },
  {
   "cell_type": "code",
   "execution_count": 12,
   "metadata": {},
   "outputs": [
    {
     "name": "stdout",
     "output_type": "stream",
     "text": [
      "The long term volatility of WFC is: 2.437581176997433 %\n",
      "The long term volatility of SPY is: 1.7471299812907712 %\n"
     ]
    }
   ],
   "source": [
    "#Defining the parameters for SPY from the GARCH model. \n",
    "alpha_spy=result_spy_garch.params[\"alpha[1]\"]\n",
    "beta_spy=result_spy_garch.params[\"beta[1]\"]\n",
    "omega_spy=result_spy_garch.params[\"omega\"]/10**4\n",
    "\n",
    "#Defining the parameters for WFC from the GARCH model.\n",
    "alpha_wfc=result_wfc_garch.params[\"alpha[1]\"]\n",
    "beta_wfc=result_wfc_garch.params[\"beta[1]\"]\n",
    "omega_wfc=result_wfc_garch.params[\"omega\"]/10**4\n",
    "\n",
    "#Long term volatility of stock\n",
    "gamma_wfc = 1-alpha_wfc-beta_wfc\n",
    "VL_wfc = np.sqrt(omega_wfc/gamma_wfc)\n",
    "print(\"The long term volatility of WFC is:\", VL_wfc*100,\"%\")\n",
    "\n",
    "#Long term volatility of index\n",
    "gamma_spy = 1-alpha_spy-beta_spy\n",
    "VL_spy = np.sqrt((omega_spy/gamma_spy))\n",
    "print(\"The long term volatility of SPY is:\", VL_spy*100,\"%\")"
   ]
  },
  {
   "cell_type": "markdown",
   "metadata": {},
   "source": [
    "## Volatilities of the symbols on 2021-01-04"
   ]
  },
  {
   "cell_type": "markdown",
   "metadata": {},
   "source": [
    "### Steps required to calculate the Volatilities of the symbols on 2021-01-04\n",
    "\n",
    "To calculate the required volatilities of the stock and the index on Jan 4th, 2021, the following steps were followed:\n",
    "1. The GARCH(1,1) model is used to forecast the the 1 day volatilities on Jan 4th , 2021. In the below code, horizon =1 means that we have taken 1 day as our input parameters. \n",
    "2. As the market was closed on January 1st, January 2nd and January 3rd, therefore, we can use the GARCH(1,1) model of both the symbol and the index as on Dec 31st , 2020.\n"
   ]
  },
  {
   "cell_type": "code",
   "execution_count": 13,
   "metadata": {},
   "outputs": [
    {
     "name": "stdout",
     "output_type": "stream",
     "text": [
      "The Volatility of WFC on 2021-01-04 is: 1.764343204541756\n",
      "The Volatility of SPY on 2021-01-04 is: 0.6357065411000443\n"
     ]
    }
   ],
   "source": [
    "#Volatility of Stock on 2021-01-04 (WFC)\n",
    "vol_wfc = math.sqrt(result_wfc_garch.forecast(horizon=1).variance.iloc[-1])\n",
    "print(\"The Volatility of WFC on 2021-01-04 is:\",vol_wfc)\n",
    "\n",
    "#Volatility of Index on 2021-01-04 (SPY)\n",
    "vol_spy = math.sqrt(result_spy_garch.forecast(horizon=1).variance.iloc[-1])\n",
    "print(\"The Volatility of SPY on 2021-01-04 is:\",vol_spy)"
   ]
  },
  {
   "cell_type": "markdown",
   "metadata": {},
   "source": [
    "## Correlation between the returns of WFC and SPY"
   ]
  },
  {
   "cell_type": "markdown",
   "metadata": {},
   "source": [
    "The correlation coefficient can be used to summarize the strength of the linear relationship between two data samples. \n",
    "\n",
    "### Steps followed to calculate the correlation are:\n",
    "\n",
    "1. Python has an inbuilt function called .corr() which automatically gives the correlation between two different datasets. In our case, we calculated the correlation between \n",
    "2. The mathematics behind the function .corr() is defined below.\n",
    "\n",
    "### Method to calculate correlation\n",
    "\n",
    "The Pearson’s correlation coefficient is calculated as the covariance of the two variables divided by the product of the standard deviation of each data sample.\t\n",
    "The formula for correlation is,\n",
    "\n",
    "\n",
    "ρ=(E(WFC×SPY) - E(WFC)E(SPY)) / (STD(WFC)STD(SPY))\n"
   ]
  },
  {
   "cell_type": "code",
   "execution_count": 14,
   "metadata": {},
   "outputs": [
    {
     "name": "stdout",
     "output_type": "stream",
     "text": [
      "The correlation between the returns of WFC and SPY is: 0.734476239266421\n"
     ]
    }
   ],
   "source": [
    "corr_spy_wfc = {'SPY Close':spy['log_returns'], 'WF Close':wfc['log_returns']}\n",
    "corr_spy_wfc = pd.DataFrame(data=corr_spy_wfc)\n",
    "corr_spy_wfc.dropna(inplace=True)\n",
    "print(\"The correlation between the returns of WFC and SPY is:\",corr_spy_wfc.corr()['SPY Close']['WF Close'])"
   ]
  },
  {
   "cell_type": "markdown",
   "metadata": {},
   "source": [
    "# PART III"
   ]
  },
  {
   "cell_type": "markdown",
   "metadata": {},
   "source": [
    "# Portfolio A - Calculating one day 99% VaR using Historical Simulation"
   ]
  },
  {
   "cell_type": "markdown",
   "metadata": {},
   "source": [
    "### Steps followed to calculated One Day 99% VaR and One Day 99% Expected Shortfall.\n",
    "\n",
    "1.\tTicker used in the code is ‘WFC’ and an investment of $1 million is assumed.\n",
    "2.\tThe data is extracted using Yahoo Finance pertinent to the mentioned time period.\n",
    "3.\tMultiple scenarios were generated i.e. For each scenario, the dollar change in the value of the portfolio between today and tomorrow is calculated. For instance, for scenario 1, the close price of day 1/day 0 is calculated, for scenario 2, the close price of day 2/day 1 is calculated and so on.\n",
    "4.\tFor each scenario, we calculated the loss by subtracting the values of the portfolio from the investment.\n",
    "5.\tThe losses are then arranged in the descending order.\n",
    "6.\tWe then extract the top ‘1’ percent values from the losses. The length of the dataset is 756, therefore, we will take one percent as the 7th value. This value represents the one-day 99% VaR.\n",
    "7.\tSimilarly, to calculate the one-day 99% ES, the average of top 1 percent losses is calculated.\n",
    "\n",
    "The above mentioned procedure is used to calculate the VaR and Expected Shortfall for Portfolio A, B and C.\n"
   ]
  },
  {
   "cell_type": "code",
   "execution_count": 15,
   "metadata": {},
   "outputs": [
    {
     "name": "stdout",
     "output_type": "stream",
     "text": [
      "For Portfolio A\n",
      "1 Day 99% Value at Risk (VaR) = 78392.24220238079\n",
      "1 Day 99% Expected Shortfall (ES) = 117516.68188552333\n"
     ]
    }
   ],
   "source": [
    "\n",
    "#investment in Portfolio A is 1 Million.\n",
    "investment=1000000\n",
    "\n",
    "# Create a portfolio of WFC\n",
    "ticker = ['WFC']\n",
    "\n",
    "# Download closing prices\n",
    "data = pdr.get_data_yahoo(ticker, start=\"2018-01-01\", end=\"2020-12-31\")['Close']\n",
    "data['returns'] = (data['WFC'])/(data['WFC'].shift(1))\n",
    "\n",
    "#Generating scenarios\n",
    "generating_scenarios = data['returns']*data['WFC'][-1]\n",
    "generating_scenarios.dropna(inplace=True)\n",
    "generating_scenarios\n",
    "\n",
    "#A represents the value of portfolio under different scenarios\n",
    "A = (generating_scenarios*investment)/data['WFC'][-1]\n",
    "\n",
    "#Calculating the loss\n",
    "loss_A = (investment-A)\n",
    "loss_A.sort_values(inplace=True, ascending=False)\n",
    "\n",
    "#Calculating the 1 Day 99% Value at Risk (VaR)\n",
    "VaR_99_A = loss_A.head(10)[6]\n",
    "\n",
    "#Calculating the 1 Day 99% Expected Shortfall (ES)\n",
    "ES_99_A = np.mean(loss_A[:6])\n",
    "ES_99_A\n",
    "\n",
    "print(\"For Portfolio A\")\n",
    "print(\"1 Day 99% Value at Risk (VaR) =\", VaR_99_A)\n",
    "print(\"1 Day 99% Expected Shortfall (ES) =\", ES_99_A)"
   ]
  },
  {
   "cell_type": "markdown",
   "metadata": {},
   "source": [
    "# Backtest"
   ]
  },
  {
   "cell_type": "markdown",
   "metadata": {},
   "source": [
    "### Back Testing\n",
    "Back testing is used to determine the accuracy of a VaR model. Backtesting involves the comparison of the calculated VaR measure to the actual losses (or gains) achieved on the portfolio. A backtest relies on the level of confidence that is assumed in the calculation.\n"
   ]
  },
  {
   "cell_type": "code",
   "execution_count": 16,
   "metadata": {},
   "outputs": [
    {
     "name": "stdout",
     "output_type": "stream",
     "text": [
      "The number of times the actual VaR exceeded the calculated VaR:  6 times\n"
     ]
    }
   ],
   "source": [
    "ticker=['WFC']\n",
    "investment=1000000\n",
    "data = pdr.get_data_yahoo(ticker, start=\"2018-01-01\", end=\"2020-12-31\")['Close']\n",
    "data_backtest= pdr.get_data_yahoo(ticker, start=\"2020-03-01\", end=\"2021-02-28\")['Close']\n",
    "no_of_share=investment/data.loc['2020-12-31']['WFC']\n",
    "change_in_price=[]\n",
    "for i in range(len(data_backtest)-1):\n",
    "    change_in_price.append(no_of_share*(data_backtest['WFC'][i+1]-data_backtest['WFC'][i]))\n",
    "change_in_price\n",
    "\n",
    "exceed = [ i for i in change_in_price if i > VaR_99_A]\n",
    "print(\"The number of times the actual VaR exceeded the calculated VaR: \",len(exceed),\"times\")"
   ]
  },
  {
   "cell_type": "markdown",
   "metadata": {},
   "source": [
    "# Portfolio B - Calculating one day 99% VaR using Historical Simulation"
   ]
  },
  {
   "cell_type": "code",
   "execution_count": 17,
   "metadata": {},
   "outputs": [
    {
     "name": "stdout",
     "output_type": "stream",
     "text": [
      "For Portfolio B\n",
      "1 Day 99% Value at Risk (VaR) = 48688.16981634952\n",
      "1 Day 99% Expected Shortfall (ES) = 73370.94789777206\n"
     ]
    }
   ],
   "source": [
    "#investment in Portfolio B is 1 Million.\n",
    "investment=1000000\n",
    "\n",
    "# Create a portfolio of SPY\n",
    "ticker = ['SPY']\n",
    "\n",
    "# Download the closing prices\n",
    "data = pdr.get_data_yahoo(ticker, start=\"2018-01-01\", end=\"2020-12-31\")['Close']\n",
    "data['returns'] = (data['SPY'])/(data['SPY'].shift(1))\n",
    "\n",
    "#Generating scenarios\n",
    "generating_scenarios = data['returns']*data['SPY'][-1]\n",
    "generating_scenarios.dropna(inplace=True)\n",
    "\n",
    "#B represents the value of portfolio under different scenarios\n",
    "B = (generating_scenarios*investment)/data['SPY'][-1]\n",
    "\n",
    "#Calculating the loss\n",
    "loss_B = (investment-B)\n",
    "loss_B.sort_values(inplace=True, ascending=False)\n",
    "\n",
    "#Calculating the 1 Day 99% Value at Risk (VaR)\n",
    "VaR_99_B = loss_B.head(10)[6]\n",
    "\n",
    "#Calculating the 1 Day 99% Expected Shortfall (ES)\n",
    "ES_99_B = np.mean(loss_B[:6])\n",
    "ES_99_B\n",
    "\n",
    "print(\"For Portfolio B\")\n",
    "print(\"1 Day 99% Value at Risk (VaR) =\", VaR_99_B)\n",
    "print(\"1 Day 99% Expected Shortfall (ES) =\", ES_99_B)"
   ]
  },
  {
   "cell_type": "markdown",
   "metadata": {},
   "source": [
    "# Portfolio  C - Calculating one day 99% VaR using Historical Simulation"
   ]
  },
  {
   "cell_type": "code",
   "execution_count": 18,
   "metadata": {},
   "outputs": [
    {
     "name": "stdout",
     "output_type": "stream",
     "text": [
      "For Portfolio C\n",
      "1 Day 99% Value at Risk (VaR) = 119220.93645872525\n",
      "1 Day 99% Expected Shortfall (ES) = 187569.89675263126\n"
     ]
    }
   ],
   "source": [
    "#investment 1 Million each in SPY and WFC.\n",
    "investment=1000000\n",
    "\n",
    "# Create a portfolio of a mixture of SPY and WFC\n",
    "ticker = ['SPY','WFC']\n",
    "\n",
    "# Download the closing prices\n",
    "data = pdr.get_data_yahoo(ticker, start=\"2018-01-01\", end=\"2020-12-31\")['Close']\n",
    "data['Returns_WFC'] = (data['WFC'])/(data['WFC'].shift(1))\n",
    "data['Returns_SPY'] = (data['SPY'])/(data['SPY'].shift(1))\n",
    "\n",
    "#Generating scenarios\n",
    "generating_scenarios = pd.DataFrame(data=data[['Returns_WFC','Returns_SPY']])\n",
    "generating_scenarios['wfc'] = data['Returns_WFC']*data['WFC'][-1]\n",
    "generating_scenarios['spy'] = data['Returns_SPY']*data['SPY'][-1]\n",
    "generating_scenarios.dropna(inplace=True)\n",
    "generating_scenarios = generating_scenarios[['wfc','spy']]\n",
    "\n",
    "#C represents the value of portfolio under different scenarios\n",
    "C = (generating_scenarios['wfc']*investment)/data['WFC'][-1]+(generating_scenarios['spy']*investment)/data['SPY'][-1]\n",
    "\n",
    "#Calculating the loss\n",
    "investment=2000000\n",
    "loss_C = (investment-C)\n",
    "loss_C.sort_values(inplace=True, ascending=False)\n",
    "\n",
    "#Calculating the 1 Day 99% Value at Risk (VaR)\n",
    "VaR_99_C = loss_C.head(10)[6]\n",
    "\n",
    "#Calculating the 1 Day 99% Expected Shortfall (ES)\n",
    "ES_99_C = np.mean(loss_C[:6])\n",
    "ES_99_C\n",
    "\n",
    "print(\"For Portfolio C\")\n",
    "print(\"1 Day 99% Value at Risk (VaR) =\", VaR_99_C)\n",
    "print(\"1 Day 99% Expected Shortfall (ES) =\", ES_99_C)"
   ]
  },
  {
   "cell_type": "markdown",
   "metadata": {},
   "source": [
    "# Portfolio  C - Calculating one day 99% VaR using Normal Distribution"
   ]
  },
  {
   "cell_type": "markdown",
   "metadata": {},
   "source": [
    "\n",
    "\n",
    "### Steps followed to calculated One Day 99% VaR using Normal Distribution.\n",
    "\n",
    "1.\tLet us assume that the portfolio returns follows a normal distribution.\n",
    "2.\tCalculate the standard deviation and the correlation between the stock ‘WFC’ and the index ‘SPY’.\n",
    "3.\tAfter following step2, calculate the standard deviation of the portfolio.\n",
    "4.\tCalculate the z-value corresponding to one percentile in normal distribution\n",
    "5.\tMultiply the z value with the volatility of portfolio C to obtain the one-day 99% VaR.\n"
   ]
  },
  {
   "cell_type": "code",
   "execution_count": 19,
   "metadata": {},
   "outputs": [
    {
     "name": "stdout",
     "output_type": "stream",
     "text": [
      "1 Day 99% Value at Risk (VaR) using Normal Distribution is = 46972.717659595044\n"
     ]
    }
   ],
   "source": [
    "# Create our portfolio of equities\n",
    "investment=1000000\n",
    "ticker = ['SPY','WFC']\n",
    "mean=0\n",
    "\n",
    "# Download closing prices\n",
    "data = pdr.get_data_yahoo(ticker, start=\"2018-01-01\", end=\"2020-12-31\")['Adj Close']\n",
    "\n",
    "# Calculating the log return\n",
    "data['Returns_SPY'] = np.log(data['SPY'])/(data['SPY'].shift(1))\n",
    "data['Returns_WFC'] = np.log(data['WFC'])/(data['WFC'].shift(1))\n",
    "\n",
    "# Calculating the standard deviation of the returns of SPY and WFC\n",
    "std_spy=np.std(data['Returns_SPY'])*investment\n",
    "std_wfc=np.std(data['Returns_WFC'])*investment\n",
    "\n",
    "#Calculating Z value using normal distribution.\n",
    "Z_value = norm.ppf(.99)\n",
    "\n",
    "#Calculating the correlation\n",
    "correlation = data.corr()['SPY']['WFC']\n",
    "correlation\n",
    "\n",
    "#The standard deviation of the one-day change in the value of the portfolio\n",
    "std_portfolio = np.sqrt((std_spy**2)+(std_wfc**2)+(2*correlation*std_spy*std_wfc))\n",
    "\n",
    "#Calculating the VaR\n",
    "VaR_99 = mean + std_portfolio*Z_value\n",
    "print(\"1 Day 99% Value at Risk (VaR) using Normal Distribution is =\", VaR_99)"
   ]
  },
  {
   "cell_type": "markdown",
   "metadata": {},
   "source": [
    "# PART IV: Performance of the Portfolio"
   ]
  },
  {
   "cell_type": "markdown",
   "metadata": {},
   "source": [
    "### Definition of RAROC\n",
    "\n",
    "Risk-adjusted return on capital (RAROC) is a risk-adjusted measure of the return on investment. \n",
    "It does this by accounting for any expected losses and income generated by capital, with the assumption \n",
    "that riskier projects should be accompanied by higher expected returns\n",
    "\n",
    "### Steps followed to calculate Risk-adjusted returns on capital (RAROC),\n",
    "1. Download the stock price from yahoo finance for the given period.\n",
    "2. Find the change in stock price to understand if there is a loss or gain and multiply it with total shares to calculate loss at portfolio level.\n",
    "3. Then we calculate RAROC using the following formula,\n",
    "\n",
    "RAROC = (Expected Return) / (99 % VAR) X 100\n",
    "\n",
    "Using the above steps to calculate the RAROC for Portfolio A, B and C\n"
   ]
  },
  {
   "cell_type": "markdown",
   "metadata": {},
   "source": [
    "### Risk-Adjusted Return On Capital (RAROC) for Portfolio A"
   ]
  },
  {
   "cell_type": "code",
   "execution_count": 20,
   "metadata": {},
   "outputs": [
    {
     "name": "stdout",
     "output_type": "stream",
     "text": [
      "The actual profit and loss on Jan 4th, 2021 for Portfolio A is:  -15904.557236005381\n",
      "The Risk-Adjusted Return On Capital (RAROC)  for Portfolio A is:  -20.28843261677028 %\n"
     ]
    }
   ],
   "source": [
    "investment=1000000\n",
    "# Create our portfolio of equities\n",
    "ticker = ['WFC']\n",
    "\n",
    "# Download closing prices\n",
    "data = pdr.get_data_yahoo(ticker, start=\"2018-01-01\", end=\"2021-01-04\")['Close']\n",
    "Price_wfc_1 = data.loc['2020-12-31']['WFC']\n",
    "Price_wfc_2 = data.loc['2021-01-04']['WFC']\n",
    "\n",
    "#Calculating number of share\n",
    "No_of_share = investment/Price_wfc_1\n",
    "\n",
    "#Calculating change in price\n",
    "Change_in_price_wfc = Price_wfc_2 - Price_wfc_1\n",
    "\n",
    "#Calculating if there is a gain or loss\n",
    "gain_or_loss = Change_in_price_wfc*No_of_share\n",
    "\n",
    "#Calculating RAROC for Portfolio A\n",
    "RAROC_A=(gain_or_loss/VaR_99_A)*100\n",
    "print(\"The actual profit and loss on Jan 4th, 2021 for Portfolio A is: \", gain_or_loss)\n",
    "print(\"The Risk-Adjusted Return On Capital (RAROC)  for Portfolio A is: \",RAROC_A,\"%\")"
   ]
  },
  {
   "cell_type": "markdown",
   "metadata": {},
   "source": [
    "### Risk-Adjusted Return On Capital (RAROC) for Portfolio B"
   ]
  },
  {
   "cell_type": "code",
   "execution_count": 21,
   "metadata": {},
   "outputs": [
    {
     "name": "stdout",
     "output_type": "stream",
     "text": [
      "The actual profit and loss on Jan 4th, 2021  for Portfolio B is:  -13613.983822125\n",
      "The Risk-Adjusted Return On Capital (RAROC)  for Portfolio B is:  -27.96158465901796 %\n"
     ]
    }
   ],
   "source": [
    "investment=1000000\n",
    "# Create our portfolio of equities\n",
    "ticker = ['SPY']\n",
    "\n",
    "# Download closing prices\n",
    "data = pdr.get_data_yahoo(ticker, start=\"2018-01-01\", end=\"2021-01-04\")['Close']\n",
    "Price_spy_1 = data.loc['2020-12-31']['SPY']\n",
    "Price_spy_2 = data.loc['2021-01-04']['SPY']\n",
    "\n",
    "#Calculating number of share\n",
    "No_of_share = investment/Price_spy_1\n",
    "\n",
    "#Calculating change in price\n",
    "Change_in_price_spy = Price_spy_2 - Price_spy_1\n",
    "\n",
    "#Calculating if there is a gain or loss\n",
    "gain_or_loss = Change_in_price_spy*No_of_share\n",
    "\n",
    "#Calculating RAROC for Portfolio A\n",
    "RAROC_B=(gain_or_loss/VaR_99_B)*100\n",
    "print(\"The actual profit and loss on Jan 4th, 2021  for Portfolio B is: \", gain_or_loss)\n",
    "print(\"The Risk-Adjusted Return On Capital (RAROC)  for Portfolio B is: \",RAROC_B,\"%\")"
   ]
  },
  {
   "cell_type": "markdown",
   "metadata": {},
   "source": [
    "### Risk-Adjusted Return On Capital (RAROC) for Portfolio C"
   ]
  },
  {
   "cell_type": "code",
   "execution_count": 22,
   "metadata": {},
   "outputs": [
    {
     "name": "stdout",
     "output_type": "stream",
     "text": [
      "The actual profit and loss on Jan 4th, 2021  for Portfolio C is:  -29518.54105813038\n",
      "The Risk-Adjusted Return On Capital (RAROC)  for Portfolio C is:  -24.759527927672178 %\n"
     ]
    }
   ],
   "source": [
    "investment=1000000 #Investing 1 Million in both SPY and WFC\n",
    "# Create our portfolio of equities\n",
    "ticker = ['SPY','WFC']\n",
    "\n",
    "# Download closing prices\n",
    "data = pdr.get_data_yahoo(ticker, start=\"2018-01-01\", end=\"2021-01-04\")['Close']\n",
    "Price_spy_1 = data.loc['2020-12-31']['SPY']\n",
    "Price_spy_2 = data.loc['2021-01-04']['SPY']\n",
    "\n",
    "#Calculating number of share of SPY\n",
    "No_of_share = investment/Price_spy_1\n",
    "Change_in_price_spy = Price_spy_2 - Price_spy_1\n",
    "\n",
    "#Calculating if there is a gain or loss\n",
    "gain_or_loss_spy = Change_in_price_spy*No_of_share\n",
    "\n",
    "#Calculating change in price\n",
    "Price_wfc_1 = data.loc['2020-12-31']['WFC']\n",
    "Price_wfc_2 = data.loc['2021-01-04']['WFC']\n",
    "\n",
    "#Calculating number of share of WFC\n",
    "No_of_share = investment/Price_wfc_1\n",
    "Change_in_price_wfc = Price_wfc_2 - Price_wfc_1\n",
    "\n",
    "#Calculating if there is a gain or loss\n",
    "gain_or_loss_wfc = Change_in_price_wfc*No_of_share\n",
    "Total_gain_or_loss = gain_or_loss_spy+gain_or_loss_wfc\n",
    "\n",
    "#Calculating RAROC for Portfolio C\n",
    "RAROC_C=(Total_gain_or_loss/VaR_99_C)*100\n",
    "print(\"The actual profit and loss on Jan 4th, 2021  for Portfolio C is: \", Total_gain_or_loss)\n",
    "print(\"The Risk-Adjusted Return On Capital (RAROC)  for Portfolio C is: \",RAROC_C,\"%\")"
   ]
  },
  {
   "cell_type": "markdown",
   "metadata": {},
   "source": [
    "# Thank You...!!"
   ]
  }
 ],
 "metadata": {
  "celltoolbar": "Raw Cell Format",
  "kernelspec": {
   "display_name": "Python 3",
   "language": "python",
   "name": "python3"
  },
  "language_info": {
   "codemirror_mode": {
    "name": "ipython",
    "version": 3
   },
   "file_extension": ".py",
   "mimetype": "text/x-python",
   "name": "python",
   "nbconvert_exporter": "python",
   "pygments_lexer": "ipython3",
   "version": "3.8.5"
  }
 },
 "nbformat": 4,
 "nbformat_minor": 4
}
